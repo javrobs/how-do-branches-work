{
 "cells": [
  {
   "cell_type": "code",
   "execution_count": 1,
   "id": "edf5a026",
   "metadata": {},
   "outputs": [],
   "source": [
    "def count_the_vowels(s):\n",
    "    count=0\n",
    "    s=s.lower()\n",
    "    vowels=[\"a\",\"e\",\"i\",\"o\",\"u\"]\n",
    "    for letter in s:\n",
    "        if letter in vowels:\n",
    "            count += 1\n",
    "    return count"
   ]
  },
  {
   "cell_type": "code",
   "execution_count": 3,
   "id": "8309d0e4",
   "metadata": {},
   "outputs": [
    {
     "name": "stdout",
     "output_type": "stream",
     "text": [
      "Write a word: chimuelo\n",
      "chimuelo has 4 vowels\n",
      "Another?(y/n)n\n"
     ]
    }
   ],
   "source": [
    "cont=\"y\"\n",
    "while cont == \"y\":\n",
    "    word=input(\"Write a word: \")\n",
    "    vowels=count_the_vowels(word)\n",
    "    print(f\"{word} has {vowels} vowels\")\n",
    "    cont=input(\"Another?(y/n)\")"
   ]
  },
  {
   "cell_type": "code",
   "execution_count": null,
   "id": "1331f884",
   "metadata": {},
   "outputs": [],
   "source": []
  },
  {
   "cell_type": "code",
   "execution_count": null,
   "id": "8927b16b",
   "metadata": {},
   "outputs": [],
   "source": []
  }
 ],
 "metadata": {
  "kernelspec": {
   "display_name": "Python [conda env:PythonData] *",
   "language": "python",
   "name": "conda-env-PythonData-py"
  },
  "language_info": {
   "codemirror_mode": {
    "name": "ipython",
    "version": 3
   },
   "file_extension": ".py",
   "mimetype": "text/x-python",
   "name": "python",
   "nbconvert_exporter": "python",
   "pygments_lexer": "ipython3",
   "version": "3.7.7"
  }
 },
 "nbformat": 4,
 "nbformat_minor": 5
}
