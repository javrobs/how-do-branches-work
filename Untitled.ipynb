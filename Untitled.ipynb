{
 "cells": [
  {
   "cell_type": "code",
   "execution_count": 1,
   "id": "4a236bbd",
   "metadata": {},
   "outputs": [],
   "source": [
    "def count_the_vowels(s):\n",
    "    s=s.lower()\n",
    "    words=s.split(\" \")\n",
    "    count=[0] * len(words)\n",
    "    vowels=[\"a\",\"e\",\"i\",\"o\",\"u\"]\n",
    "    for i,word in enumerate(words):\n",
    "        for letter in word:\n",
    "            if letter in vowels:\n",
    "                count[i]+=1\n",
    "    result = [words,count]\n",
    "    return result"
   ]
  },
  {
   "cell_type": "code",
   "execution_count": 2,
   "id": "08013379",
   "metadata": {},
   "outputs": [
    {
     "name": "stdout",
     "output_type": "stream",
     "text": [
      "Write a word: Inteligencia artificial\n",
      "inteligencia has 6 vowels\n",
      "artificial has 5 vowels\n",
      "Another?(y/n)n\n"
     ]
    }
   ],
   "source": [
    "cont=\"y\"\n",
    "while cont == \"y\":\n",
    "    word=input(\"Write a word: \")\n",
    "    [words,count]=count_the_vowels(word)\n",
    "    for i in range(len(words)):\n",
    "        print(f\"{words[i]} has {count[i]} vowels\")\n",
    "    cont=input(\"Another?(y/n)\")"
   ]
  },
  {
   "cell_type": "code",
   "execution_count": null,
   "id": "85a80454",
   "metadata": {},
   "outputs": [],
   "source": []
  },
  {
   "cell_type": "code",
   "execution_count": null,
   "id": "77deff4a",
   "metadata": {},
   "outputs": [],
   "source": []
  }
 ],
 "metadata": {
  "kernelspec": {
   "display_name": "Python [conda env:PythonData] *",
   "language": "python",
   "name": "conda-env-PythonData-py"
  },
  "language_info": {
   "codemirror_mode": {
    "name": "ipython",
    "version": 3
   },
   "file_extension": ".py",
   "mimetype": "text/x-python",
   "name": "python",
   "nbconvert_exporter": "python",
   "pygments_lexer": "ipython3",
   "version": "3.7.7"
  }
 },
 "nbformat": 4,
 "nbformat_minor": 5
}
