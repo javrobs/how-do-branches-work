{
 "cells": [
  {
   "cell_type": "code",
   "execution_count": 7,
   "id": "d94ca2e9",
   "metadata": {},
   "outputs": [],
   "source": [
    "def count_the_vowels(s):\n",
    "    s=s.lower()\n",
    "    words=s.split(\" \")\n",
    "    count=[0] * len(words)\n",
    "    vowels=[\"a\",\"e\",\"i\",\"o\",\"u\",\"á\",\"é\",\"í\",\"ó\",\"ú\"]\n",
    "    for i,word in enumerate(words):\n",
    "        for letter in word:\n",
    "            if letter in vowels:\n",
    "                count[i]+=1\n",
    "    result = [words,count]\n",
    "    return result"
   ]
  },
  {
   "cell_type": "code",
   "execution_count": 8,
   "id": "53ebe9a8",
   "metadata": {},
   "outputs": [
    {
     "name": "stdout",
     "output_type": "stream",
     "text": [
      "Write a word: Consumación de la independencia\n",
      "consumación has 5 vowels\n",
      "de has 1 vowels\n",
      "la has 1 vowels\n",
      "independencia has 6 vowels\n",
      "Another?(y/n)n\n",
      "Ok, see you later!\n"
     ]
    }
   ],
   "source": [
    "cont=\"y\"\n",
    "while cont == \"y\":\n",
    "    word=input(\"Write a word: \")\n",
    "    [words,count]=count_the_vowels(word)\n",
    "    for i in range(len(words)):\n",
    "        print(f\"{words[i]} has {count[i]} vowels\")\n",
    "    cont=input(\"Another?(y/n)\")\n",
    "    if cont == \"n\":\n",
    "        print(\"Ok, see you later!\")"
   ]
  },
  {
   "cell_type": "code",
   "execution_count": null,
   "id": "a6d3e06b",
   "metadata": {},
   "outputs": [],
   "source": []
  },
  {
   "cell_type": "code",
   "execution_count": null,
   "id": "739559ae",
   "metadata": {},
   "outputs": [],
   "source": []
  }
 ],
 "metadata": {
  "kernelspec": {
   "display_name": "Python [conda env:PythonData] *",
   "language": "python",
   "name": "conda-env-PythonData-py"
  },
  "language_info": {
   "codemirror_mode": {
    "name": "ipython",
    "version": 3
   },
   "file_extension": ".py",
   "mimetype": "text/x-python",
   "name": "python",
   "nbconvert_exporter": "python",
   "pygments_lexer": "ipython3",
   "version": "3.7.7"
  }
 },
 "nbformat": 4,
 "nbformat_minor": 5
}
