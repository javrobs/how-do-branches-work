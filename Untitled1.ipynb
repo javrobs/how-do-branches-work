{
 "cells": [
  {
   "cell_type": "code",
   "execution_count": 5,
   "id": "2e7f121a",
   "metadata": {},
   "outputs": [
    {
     "name": "stdout",
     "output_type": "stream",
     "text": [
      "hi stranger, long time no see\n"
     ]
    }
   ],
   "source": [
    "#Hello!\n",
    "message=\"hi stranger\"\n",
    "print(message+\", long time no see\")"
   ]
  },
  {
   "cell_type": "code",
   "execution_count": null,
   "id": "1b57d62b",
   "metadata": {},
   "outputs": [],
   "source": []
  },
  {
   "cell_type": "code",
   "execution_count": null,
   "id": "dbe2786c",
   "metadata": {},
   "outputs": [],
   "source": []
  },
  {
   "cell_type": "code",
   "execution_count": null,
   "id": "8c7b0aa6",
   "metadata": {},
   "outputs": [],
   "source": []
  }
 ],
 "metadata": {
  "kernelspec": {
   "display_name": "Python [conda env:PythonData] *",
   "language": "python",
   "name": "conda-env-PythonData-py"
  },
  "language_info": {
   "codemirror_mode": {
    "name": "ipython",
    "version": 3
   },
   "file_extension": ".py",
   "mimetype": "text/x-python",
   "name": "python",
   "nbconvert_exporter": "python",
   "pygments_lexer": "ipython3",
   "version": "3.7.7"
  }
 },
 "nbformat": 4,
 "nbformat_minor": 5
}
